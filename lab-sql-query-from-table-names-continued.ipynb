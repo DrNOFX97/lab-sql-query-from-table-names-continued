{
 "cells": [
  {
   "cell_type": "markdown",
   "id": "7d930c89-4954-4e39-be5a-601c1dd89512",
   "metadata": {
    "id": "7d930c89-4954-4e39-be5a-601c1dd89512"
   },
   "source": [
    "# SQL query from table names - Continued"
   ]
  },
  {
   "cell_type": "code",
   "execution_count": 1,
   "id": "a03f026a",
   "metadata": {
    "id": "a03f026a"
   },
   "outputs": [],
   "source": [
    "from openai import OpenAI\n",
    "import os\n",
    "from dotenv import load_dotenv, find_dotenv\n",
    "_ = load_dotenv(find_dotenv())\n",
    "\n",
    "OPENAI_API_KEY  = os.getenv('OPENAI_API_KEY')"
   ]
  },
  {
   "cell_type": "markdown",
   "id": "53a05b80-88fd-42b2-ba89-763074ae74e9",
   "metadata": {
    "id": "53a05b80-88fd-42b2-ba89-763074ae74e9"
   },
   "source": [
    "## The old Prompt"
   ]
  },
  {
   "cell_type": "code",
   "execution_count": 2,
   "id": "922f8d24",
   "metadata": {
    "id": "922f8d24"
   },
   "outputs": [],
   "source": [
    "#The old prompt\n",
    "old_context = [ {'role':'system', 'content':\"\"\"\n",
    "you are a bot to assist in create SQL commands, all your answers should start with \\\n",
    "this is your SQL, and after that an SQL that can do what the user request. \\\n",
    "Your Database is composed by a SQL database with some tables. \\\n",
    "Try to maintain the SQL order simple.\n",
    "Put the SQL command in white letters with a black background, and just after \\\n",
    "a simple and concise text explaining how it works.\n",
    "If the user ask for something that can not be solved with an SQL Order \\\n",
    "just answer something nice and simple, maximum 10 words, asking him for something that \\\n",
    "can be solved with SQL.\n",
    "\"\"\"} ]\n",
    "\n",
    "old_context.append( {'role':'system', 'content':\"\"\"\n",
    "first table:\n",
    "{\n",
    "  \"tableName\": \"employees\",\n",
    "  \"fields\": [\n",
    "    {\n",
    "      \"nombre\": \"ID_usr\",\n",
    "      \"tipo\": \"int\"\n",
    "    },\n",
    "    {\n",
    "      \"nombre\": \"name\",\n",
    "      \"tipo\": \"varchar\"\n",
    "    }\n",
    "  ]\n",
    "}\n",
    "\"\"\"\n",
    "})\n",
    "\n",
    "old_context.append( {'role':'system', 'content':\"\"\"\n",
    "second table:\n",
    "{\n",
    "  \"tableName\": \"salary\",\n",
    "  \"fields\": [\n",
    "    {\n",
    "      \"nombre\": \"ID_usr\",\n",
    "      \"type\": \"int\"\n",
    "    },\n",
    "    {\n",
    "      \"name\": \"year\",\n",
    "      \"type\": \"date\"\n",
    "    },\n",
    "    {\n",
    "      \"name\": \"salary\",\n",
    "      \"type\": \"float\"\n",
    "    }\n",
    "  ]\n",
    "}\n",
    "\"\"\"\n",
    "})\n",
    "\n",
    "old_context.append( {'role':'system', 'content':\"\"\"\n",
    "third table:\n",
    "{\n",
    "  \"tablename\": \"studies\",\n",
    "  \"fields\": [\n",
    "    {\n",
    "      \"name\": \"ID\",\n",
    "      \"type\": \"int\"\n",
    "    },\n",
    "    {\n",
    "      \"name\": \"ID_usr\",\n",
    "      \"type\": \"int\"\n",
    "    },\n",
    "    {\n",
    "      \"name\": \"educational_level\",\n",
    "      \"type\": \"int\"\n",
    "    },\n",
    "    {\n",
    "      \"name\": \"Institution\",\n",
    "      \"type\": \"varchar\"\n",
    "    },\n",
    "    {\n",
    "      \"name\": \"Years\",\n",
    "      \"type\": \"date\"\n",
    "    }\n",
    "    {\n",
    "      \"name\": \"Speciality\",\n",
    "      \"type\": \"varchar\"\n",
    "    }\n",
    "  ]\n",
    "}\n",
    "\"\"\"\n",
    "})"
   ]
  },
  {
   "cell_type": "markdown",
   "id": "377acaae-7dd0-4d13-bc68-9e33741c231c",
   "metadata": {
    "id": "377acaae-7dd0-4d13-bc68-9e33741c231c"
   },
   "source": [
    "## New Prompt.\n",
    "We are going to improve it following the instructions of a Paper from the Ohaio University: [How to Prompt LLMs for Text-to-SQL: A Study in Zero-shot, Single-domain, and Cross-domain Settings](https://arxiv.org/abs/2305.11853). I recommend you read that paper.\n",
    "\n",
    "For each table, we will define the structure using the same syntax as in a SQL create table command, and add the sample rows of the content.\n",
    "\n",
    "Finally, at the end of the prompt, we'll include some example queries with the SQL that the model should generate. This technique is called Few-Shot Samples, in which we provide the prompt with some examples to assist it in generating the correct SQL.\n"
   ]
  },
  {
   "cell_type": "code",
   "execution_count": 3,
   "id": "5334f942",
   "metadata": {
    "id": "5334f942"
   },
   "outputs": [],
   "source": [
    "context = [ {'role':'system', 'content':\"\"\"\n",
    " CREATE SEVERAL (3+) TABLES HERE\n",
    "\"\"\"} ]\n",
    "\n"
   ]
  },
  {
   "cell_type": "code",
   "execution_count": 4,
   "id": "330e69b0-3f5f-4bb2-8185-aedded2bb993",
   "metadata": {
    "id": "330e69b0-3f5f-4bb2-8185-aedded2bb993"
   },
   "outputs": [],
   "source": [
    "#FEW SHOT SAMPLES\n",
    "context.append( {'role':'system', 'content':\"\"\"\n",
    " -- Maintain the SQL order simple and efficient as you can, using valid SQL Lite, answer the following questions for the table provided above.\n",
    "WRITE IN YOUR CONTEXT QUERIES HERE\n",
    "\"\"\"\n",
    "})"
   ]
  },
  {
   "cell_type": "code",
   "execution_count": 5,
   "id": "b90f417a",
   "metadata": {
    "id": "b90f417a"
   },
   "outputs": [],
   "source": [
    "#Functio to call the model.\n",
    "def return_CCRMSQL(user_message, context):\n",
    "    client = OpenAI(\n",
    "    # This is the default and can be omitted\n",
    "    api_key=OPENAI_API_KEY,\n",
    ")\n",
    "\n",
    "    newcontext = context.copy()\n",
    "    newcontext.append({'role':'user', 'content':\"question: \" + user_message})\n",
    "\n",
    "    response = client.chat.completions.create(\n",
    "            model=\"gpt-3.5-turbo\",\n",
    "            messages=newcontext,\n",
    "            temperature=0,\n",
    "        )\n",
    "\n",
    "    return (response.choices[0].message.content)"
   ]
  },
  {
   "cell_type": "markdown",
   "id": "9e0a4c11-dfe1-46fe-ac2b-3ff825f9749c",
   "metadata": {
    "id": "9e0a4c11-dfe1-46fe-ac2b-3ff825f9749c"
   },
   "source": [
    "## NL2SQL Samples\n",
    "We're going to review some examples generated with the old prompt and others with the new prompt."
   ]
  },
  {
   "cell_type": "code",
   "execution_count": 12,
   "id": "59e8202c-ce34-487e-9037-c65a263423ed",
   "metadata": {
    "colab": {
     "base_uri": "https://localhost:8080/"
    },
    "id": "59e8202c-ce34-487e-9037-c65a263423ed",
    "outputId": "f7a97b9f-45d7-4f78-8979-a796c5bc42fb"
   },
   "outputs": [
    {
     "name": "stdout",
     "output_type": "stream",
     "text": [
      "```sql\n",
      "SELECT employee_name, salary\n",
      "FROM employees\n",
      "ORDER BY salary DESC\n",
      "LIMIT 1;\n",
      "```\n"
     ]
    }
   ],
   "source": [
    "#new\n",
    "context_user = context.copy()\n",
    "print(return_CCRMSQL(\"Who is the highest-paid employee in the company?\", context_user))"
   ]
  },
  {
   "cell_type": "code",
   "execution_count": 13,
   "id": "9c4766b1-48a9-456e-bc6c-4b6f41909aa4",
   "metadata": {
    "colab": {
     "base_uri": "https://localhost:8080/"
    },
    "id": "9c4766b1-48a9-456e-bc6c-4b6f41909aa4",
    "outputId": "029844da-5f1f-4f65-9adb-4d9c1cafacea"
   },
   "outputs": [
    {
     "name": "stdout",
     "output_type": "stream",
     "text": [
      "This is your SQL:\n",
      "```sql\n",
      "SELECT e.name, MAX(s.salary) AS highest_earnings\n",
      "FROM employees e\n",
      "JOIN salary s ON e.ID_usr = s.ID_usr;\n",
      "```\n",
      "\n",
      "This SQL query selects the employee's name and their highest salary by joining the \"employees\" table with the \"salary\" table on the employee ID. The MAX() function is used to find the highest earnings.\n"
     ]
    }
   ],
   "source": [
    "#old\n",
    "old_context_user = old_context.copy()\n",
    "print(return_CCRMSQL(\"Who is the highest-paid employee in the company?\", old_context_user))"
   ]
  },
  {
   "cell_type": "code",
   "execution_count": 14,
   "id": "38d8d370-0524-4a28-bd54-5e5cddb08e2c",
   "metadata": {
    "colab": {
     "base_uri": "https://localhost:8080/"
    },
    "id": "38d8d370-0524-4a28-bd54-5e5cddb08e2c",
    "outputId": "2934cdec-bea0-44db-b047-33e70dcf8ae8"
   },
   "outputs": [
    {
     "name": "stdout",
     "output_type": "stream",
     "text": [
      "```sql\n",
      "SELECT employee_name, MAX(tenure) AS longest_tenure\n",
      "FROM employees\n",
      "GROUP BY employee_name\n",
      "ORDER BY longest_tenure DESC\n",
      "LIMIT 1;\n",
      "```\n"
     ]
    }
   ],
   "source": [
    "#new\n",
    "print(return_CCRMSQL(\"Which employee has the longest tenure based on their educational background?\", context_user))"
   ]
  },
  {
   "cell_type": "code",
   "execution_count": 15,
   "id": "5aa318d4-dd9f-41db-8ff4-c1d87220f766",
   "metadata": {
    "colab": {
     "base_uri": "https://localhost:8080/"
    },
    "id": "5aa318d4-dd9f-41db-8ff4-c1d87220f766",
    "outputId": "605724a1-0d89-4ed9-d8ec-1aeeae6dc287"
   },
   "outputs": [
    {
     "name": "stdout",
     "output_type": "stream",
     "text": [
      "This is your SQL:\n",
      "```sql\n",
      "SELECT e.name, MAX(s.Years) AS longest_tenure\n",
      "FROM employees e\n",
      "JOIN studies st ON e.ID_usr = st.ID_usr\n",
      "GROUP BY e.name\n",
      "ORDER BY longest_tenure DESC\n",
      "LIMIT 1;\n",
      "```\n",
      "\n",
      "This SQL query retrieves the employee with the longest tenure based on their educational background. It joins the \"employees\" and \"studies\" tables on the ID_usr column, calculates the maximum number of years of education for each employee, orders the results in descending order of tenure, and limits the output to the employee with the longest tenure.\n"
     ]
    }
   ],
   "source": [
    "#old\n",
    "print(return_CCRMSQL(\"Which employee has the longest tenure based on their educational background?\", old_context_user))"
   ]
  },
  {
   "cell_type": "markdown",
   "id": "0f31968e-74ad-4ae2-9537-b3d550b1be47",
   "metadata": {
    "id": "0f31968e-74ad-4ae2-9537-b3d550b1be47"
   },
   "source": [
    "# Exercise\n",
    " - Complete the prompts similar to what we did in class. \n",
    "     - Try at least 3 versions\n",
    "     - Be creative\n",
    " - Write a one page report summarizing your findings.\n",
    "     - Were there variations that didn't work well? i.e., where GPT either hallucinated or wrong.\n",
    "     - What did you learn?"
   ]
  },
  {
   "cell_type": "code",
   "execution_count": 16,
   "id": "1901689d-8e8e-459e-920a-f21d83060e8f",
   "metadata": {},
   "outputs": [
    {
     "name": "stdout",
     "output_type": "stream",
     "text": [
      "```sql\n",
      "SELECT employee_name, salary\n",
      "FROM employees\n",
      "ORDER BY salary DESC\n",
      "LIMIT 1;\n",
      "```\n",
      "To determine which employee has the wildest office fashion sense, we can query the employee table and order the results by the \"fashion_sense\" column in descending order. The employee with the highest value in the \"fashion_sense\" column can be considered to have the wildest office fashion sense.\n",
      "\n",
      "```sql\n",
      "SELECT employee_name\n",
      "FROM employee\n",
      "ORDER BY fashion_sense DESC\n",
      "LIMIT 1;\n",
      "```\n",
      "```sql\n",
      "SELECT employee_name\n",
      "FROM latte_art\n",
      "ORDER BY time_spent DESC\n",
      "LIMIT 1;\n",
      "```\n",
      "To identify the employee with the most unconventional desk setup, we would need a table that stores information about the desk setup of each employee. Let's create a table named `desk_setup` for this purpose:\n",
      "\n",
      "```sql\n",
      "CREATE TABLE desk_setup (\n",
      "    employee_id INT PRIMARY KEY,\n",
      "    setup_description TEXT\n",
      ");\n",
      "```\n",
      "\n",
      "We can then query this table to find the employee with the most unconventional desk setup.\n",
      "To determine which employee is most likely to win a Nobel Prize, we can consider factors such as education level, years of experience, and number of publications. Let's assume we have the following tables:\n",
      "\n",
      "1. Employees:\n",
      "```sql\n",
      "CREATE TABLE Employees (\n",
      "    employee_id INTEGER PRIMARY KEY,\n",
      "    name TEXT,\n",
      "    education_level TEXT,\n",
      "    years_of_experience INTEGER\n",
      ");\n",
      "```\n",
      "\n",
      "2. Publications:\n",
      "```sql\n",
      "CREATE TABLE Publications (\n",
      "    publication_id INTEGER PRIMARY KEY,\n",
      "    employee_id INTEGER,\n",
      "    title TEXT,\n",
      "    year_published INTEGER\n",
      ");\n",
      "```\n",
      "\n",
      "3. Awards:\n",
      "```sql\n",
      "CREATE TABLE Awards (\n",
      "    award_id INTEGER PRIMARY KEY,\n",
      "    employee_id INTEGER,\n",
      "    award_name TEXT,\n",
      "    year_received INTEGER\n",
      ");\n",
      "```\n",
      "\n",
      "We can then write a query to find the employee who is most likely to win a Nobel Prize based on the criteria mentioned above. Here is an example query:\n",
      "\n",
      "```sql\n",
      "SELECT e.name, e.education_level, e.years_of_experience, COUNT(p.publication_id) AS num_publications\n",
      "FROM Employees e\n",
      "LEFT JOIN Publications p ON e.employee_id = p.employee_id\n",
      "LEFT JOIN Awards a ON e.employee_id = a.employee_id\n",
      "GROUP BY e.employee_id\n",
      "ORDER BY e.education_level DESC, e.years_of_experience DESC, num_publications DESC\n",
      "LIMIT 1;\n",
      "```\n",
      "\n",
      "This query will select the employee with the highest education level, most years of experience, and the highest number of publications. This employee is considered most likely to win a Nobel Prize based on these criteria.\n",
      "```sql\n",
      "SELECT employee_id, MAX(lunch_duration) AS longest_lunch_duration\n",
      "FROM lunch_breaks\n",
      "GROUP BY employee_id\n",
      "ORDER BY longest_lunch_duration DESC\n",
      "LIMIT 1;\n",
      "```\n",
      "```sql\n",
      "SELECT employee_id, COUNT(*) AS karaoke_nights_attended\n",
      "FROM karaoke_nights_attendance\n",
      "GROUP BY employee_id\n",
      "ORDER BY karaoke_nights_attended DESC\n",
      "LIMIT 1;\n",
      "```\n",
      "```sql\n",
      "SELECT employee_name\n",
      "FROM office_plants\n",
      "ORDER BY number_of_plants DESC\n",
      "LIMIT 1;\n",
      "```\n",
      "```sql\n",
      "SELECT employee_name\n",
      "FROM employees\n",
      "ORDER BY RANDOM()\n",
      "LIMIT 1;\n",
      "```\n",
      "```sql\n",
      "SELECT employee_name\n",
      "FROM employee_sticky_notes\n",
      "ORDER BY number_of_sticky_notes DESC\n",
      "LIMIT 1;\n",
      "```\n"
     ]
    }
   ],
   "source": [
    "# Question 1\n",
    "context_user = context.copy()\n",
    "print(return_CCRMSQL(\"Who is the highest-paid employee in the company?\", context_user))\n",
    "\n",
    "# Question 2\n",
    "context_user = context.copy()\n",
    "print(return_CCRMSQL(\"Which employee has the wildest office fashion sense?\", context_user))\n",
    "\n",
    "# Question 3\n",
    "context_user = context.copy()\n",
    "print(return_CCRMSQL(\"Show me the employee who spends the most time perfecting their latte art.\", context_user))\n",
    "\n",
    "# Question 4\n",
    "context_user = context.copy()\n",
    "print(return_CCRMSQL(\"Identify the employee with the most unconventional desk setup.\", context_user))\n",
    "\n",
    "# Question 5\n",
    "context_user = context.copy()\n",
    "print(return_CCRMSQL(\"Who among the employees is most likely to win a Nobel Prize?\", context_user))\n",
    "\n",
    "# Question 6\n",
    "context_user = context.copy()\n",
    "print(return_CCRMSQL(\"Which employee takes the longest lunch breaks?\", context_user))\n",
    "\n",
    "# Question 7\n",
    "context_user = context.copy()\n",
    "print(return_CCRMSQL(\"Find the employee who has attended the most company-sponsored karaoke nights.\", context_user))\n",
    "\n",
    "# Question 8\n",
    "context_user = context.copy()\n",
    "print(return_CCRMSQL(\"Who is the employee with the most extensive collection of office plants?\", context_user))\n",
    "\n",
    "# Question 9\n",
    "context_user = context.copy()\n",
    "print(return_CCRMSQL(\"Identify the employee who is most likely to organize an impromptu dance-off in the office.\", context_user))\n",
    "\n",
    "# Question 10\n",
    "context_user = context.copy()\n",
    "print(return_CCRMSQL(\"Show me the employee who has the most creative use of sticky notes on their monitor.\", context_user))\n"
   ]
  },
  {
   "cell_type": "code",
   "execution_count": 17,
   "id": "dc3c9fe1-81f8-47f3-bdf4-8fdb12487b8b",
   "metadata": {},
   "outputs": [
    {
     "name": "stdout",
     "output_type": "stream",
     "text": [
      "This is your SQL:\n",
      "```sql\n",
      "SELECT e.name, s.salary\n",
      "FROM employees e\n",
      "JOIN salary s ON e.ID_usr = s.ID_usr\n",
      "ORDER BY s.salary DESC\n",
      "LIMIT 1;\n",
      "```\n",
      "\n",
      "This SQL query retrieves the name and salary of the highest-paid employee in the company by joining the \"employees\" and \"salary\" tables on the employee ID, then ordering the results by salary in descending order and limiting the output to the first row.\n",
      "This is your SQL:\n",
      "```sql\n",
      "SELECT e.name, s.salary\n",
      "FROM employees e\n",
      "JOIN salary s ON e.ID_usr = s.ID_usr\n",
      "ORDER BY s.salary DESC\n",
      "LIMIT 1;\n",
      "```\n",
      "\n",
      "This SQL query selects the employee with the highest salary by joining the \"employees\" and \"salary\" tables on the employee ID. It then orders the result by salary in descending order and limits the output to only the top result, which represents the employee with the fanciest job title based on salary.\n",
      "This is your SQL:\n",
      "```sql\n",
      "SELECT e.name, SUM(p.amount) AS total_spent\n",
      "FROM employees e\n",
      "JOIN purchases p ON e.ID_usr = p.ID_usr\n",
      "WHERE p.item = 'coffee'\n",
      "GROUP BY e.name\n",
      "ORDER BY total_spent DESC\n",
      "LIMIT 1;\n",
      "```\n",
      "\n",
      "This SQL query retrieves the employee who spends the most on coffee by joining the employees table with a purchases table (which is assumed to exist but not defined here) on the employee ID. It then calculates the total amount spent on coffee for each employee, groups the results by employee name, orders them in descending order by total spent, and limits the output to the top spender.\n",
      "This is your SQL:\n",
      "```sql\n",
      "SELECT e.name, COUNT(*) AS decor_count\n",
      "FROM employees e\n",
      "JOIN office_desk_decor od ON e.ID_usr = od.ID_usr\n",
      "GROUP BY e.name\n",
      "ORDER BY decor_count DESC\n",
      "LIMIT 1;\n",
      "```\n",
      "\n",
      "This SQL query selects the employee with the most unique office desk decor by counting the number of decor items each employee has and then ordering the result in descending order to show the employee with the highest count first.\n",
      "This is your SQL:\n",
      "```sql\n",
      "SELECT e.name, SUM(DATEDIFF(CURDATE(), s.year)) AS total_vacation_days\n",
      "FROM employees e\n",
      "JOIN salary s ON e.ID_usr = s.ID_usr\n",
      "GROUP BY e.name\n",
      "ORDER BY total_vacation_days DESC\n",
      "LIMIT 1;\n",
      "```\n",
      "\n",
      "This SQL query joins the \"employees\" table with the \"salary\" table on the employee ID. It calculates the total vacation days accumulated by each employee by summing the difference in days between the current date and the salary year. Then, it groups the results by employee name, orders them in descending order by total vacation days, and limits the output to show only the employee with the most vacation days accumulated.\n",
      "This is your SQL:\n",
      "```sql\n",
      "SELECT e.name, SUM(s.salary) AS total_salary\n",
      "FROM employees e\n",
      "JOIN salary s ON e.ID_usr = s.ID_usr\n",
      "GROUP BY e.name\n",
      "ORDER BY total_salary DESC\n",
      "LIMIT 1;\n",
      "```\n",
      "\n",
      "This SQL query selects the employee with the highest total salary by joining the \"employees\" and \"salary\" tables on the ID_usr column. It then calculates the total salary for each employee, groups the results by employee name, orders them in descending order by total salary, and finally limits the output to only the top result, which is the employee most likely to win the next office Olympics based on their salary.\n",
      "This is your SQL:\n",
      "```sql\n",
      "SELECT name\n",
      "FROM employees\n",
      "ORDER BY commute_distance DESC\n",
      "LIMIT 1;\n",
      "```\n",
      "\n",
      "This SQL query selects the name of the employee with the longest commute distance by ordering the employees table in descending order based on the commute distance and then limiting the result to only one row, which corresponds to the employee with the longest commute.\n",
      "This is your SQL:\n",
      "```sql\n",
      "SELECT name, COUNT(*) AS post_it_count\n",
      "FROM employees\n",
      "GROUP BY name\n",
      "ORDER BY post_it_count DESC\n",
      "LIMIT 1;\n",
      "```\n",
      "\n",
      "This SQL query selects the employee with the highest number of post-it notes on their desk by counting the number of post-it notes for each employee, grouping the results by employee name, ordering them in descending order, and then limiting the output to only the top result.\n",
      "This is your SQL:\n",
      "```sql\n",
      "SELECT ID_usr, COUNT(*) AS unread_emails\n",
      "FROM inbox\n",
      "WHERE read_status = 'unread'\n",
      "GROUP BY ID_usr\n",
      "ORDER BY unread_emails DESC\n",
      "LIMIT 1;\n",
      "```\n",
      "\n",
      "This SQL query selects the employee ID and counts the number of unread emails in their inbox. It groups the results by employee ID, orders them in descending order based on the count of unread emails, and limits the output to only show the employee with the most unread emails.\n",
      "This is your SQL:\n",
      "```sql\n",
      "SELECT e.name\n",
      "FROM employees e\n",
      "WHERE e.ID_usr = (\n",
      "    SELECT s.ID_usr\n",
      "    FROM salary s\n",
      "    WHERE s.salary = (\n",
      "        SELECT MAX(salary)\n",
      "        FROM salary\n",
      "    )\n",
      ");\n",
      "```\n",
      "\n",
      "This SQL query selects the employee with the highest salary by comparing the salary of each employee with the maximum salary in the salary table.\n"
     ]
    }
   ],
   "source": [
    "# Question 1\n",
    "old_context_user = old_context.copy()\n",
    "print(return_CCRMSQL(\"Who is the highest-paid employee in the company?\", old_context_user))\n",
    "\n",
    "# Question 2\n",
    "old_context_user = old_context.copy()\n",
    "print(return_CCRMSQL(\"Which employee has the fanciest job title?\", old_context_user))\n",
    "\n",
    "# Question 3\n",
    "old_context_user = old_context.copy()\n",
    "print(return_CCRMSQL(\"Can you find the employee who spends the most on coffee?\", old_context_user))\n",
    "\n",
    "# Question 4\n",
    "old_context_user = old_context.copy()\n",
    "print(return_CCRMSQL(\"Who has the most unique office desk decor?\", old_context_user))\n",
    "\n",
    "# Question 5\n",
    "old_context_user = old_context.copy()\n",
    "print(return_CCRMSQL(\"Show me the employee with the most vacation days accumulated.\", old_context_user))\n",
    "\n",
    "# Question 6\n",
    "old_context_user = old_context.copy()\n",
    "print(return_CCRMSQL(\"Identify the employee most likely to win the next office Olympics.\", old_context_user))\n",
    "\n",
    "# Question 7\n",
    "old_context_user = old_context.copy()\n",
    "print(return_CCRMSQL(\"Who has the longest commute to work among the employees?\", old_context_user))\n",
    "\n",
    "# Question 8\n",
    "old_context_user = old_context.copy()\n",
    "print(return_CCRMSQL(\"Which employee has the highest number of post-it notes on their desk?\", old_context_user))\n",
    "\n",
    "# Question 9\n",
    "old_context_user = old_context.copy()\n",
    "print(return_CCRMSQL(\"Find the employee with the most unread emails in their inbox.\", old_context_user))\n",
    "\n",
    "# Question 10\n",
    "old_context_user = old_context.copy()\n",
    "print(return_CCRMSQL(\"Who is the employee most likely to have a pet iguana at home?\", old_context_user))\n"
   ]
  },
  {
   "cell_type": "code",
   "execution_count": null,
   "id": "46199b19-38d2-46a7-acf0-0a84625b5533",
   "metadata": {},
   "outputs": [],
   "source": []
  },
  {
   "cell_type": "code",
   "execution_count": null,
   "id": "3562a8cc-0997-4f19-a751-0b8793f74c9b",
   "metadata": {},
   "outputs": [],
   "source": []
  },
  {
   "cell_type": "code",
   "execution_count": null,
   "id": "16b9a357-c086-4a2f-b61a-e2594ffe0003",
   "metadata": {},
   "outputs": [],
   "source": []
  },
  {
   "cell_type": "code",
   "execution_count": null,
   "id": "5601d4c9-32ac-41e4-85d4-d3d990d0d0f3",
   "metadata": {},
   "outputs": [],
   "source": []
  },
  {
   "cell_type": "code",
   "execution_count": null,
   "id": "81751db0-59f9-4b0c-9100-d8ea7187fbb4",
   "metadata": {},
   "outputs": [],
   "source": []
  },
  {
   "cell_type": "code",
   "execution_count": null,
   "id": "189a18bf-1edb-456d-8437-790885308f53",
   "metadata": {},
   "outputs": [],
   "source": []
  },
  {
   "cell_type": "code",
   "execution_count": null,
   "id": "a550a457-0333-42a2-bc82-f9c7743c33a5",
   "metadata": {},
   "outputs": [],
   "source": []
  },
  {
   "cell_type": "code",
   "execution_count": null,
   "id": "55fc48be-2ade-40dc-bc61-62b62bc9e35d",
   "metadata": {},
   "outputs": [],
   "source": []
  },
  {
   "cell_type": "code",
   "execution_count": null,
   "id": "fb32f016-2681-4e0c-9554-86552e171248",
   "metadata": {},
   "outputs": [],
   "source": []
  },
  {
   "cell_type": "code",
   "execution_count": null,
   "id": "6b677c80-6cf1-4508-8158-7271945bf43d",
   "metadata": {},
   "outputs": [],
   "source": []
  },
  {
   "cell_type": "code",
   "execution_count": null,
   "id": "c4dfe3d0-d52c-4d09-8a88-918d639fdd50",
   "metadata": {},
   "outputs": [],
   "source": []
  }
 ],
 "metadata": {
  "colab": {
   "include_colab_link": true,
   "provenance": []
  },
  "kernelspec": {
   "display_name": "Python 3 (ipykernel)",
   "language": "python",
   "name": "python3"
  },
  "language_info": {
   "codemirror_mode": {
    "name": "ipython",
    "version": 3
   },
   "file_extension": ".py",
   "mimetype": "text/x-python",
   "name": "python",
   "nbconvert_exporter": "python",
   "pygments_lexer": "ipython3",
   "version": "3.11.7"
  }
 },
 "nbformat": 4,
 "nbformat_minor": 5
}
